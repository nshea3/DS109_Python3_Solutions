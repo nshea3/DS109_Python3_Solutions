{
  "nbformat": 4,
  "nbformat_minor": 0,
  "metadata": {
    "colab": {
      "name": "Libya_paleocene_clastics_thickness.ipynb",
      "version": "0.3.2",
      "provenance": [],
      "collapsed_sections": [],
      "include_colab_link": true
    },
    "kernelspec": {
      "name": "python3",
      "display_name": "Python 3"
    }
  },
  "cells": [
    {
      "cell_type": "markdown",
      "metadata": {
        "id": "view-in-github",
        "colab_type": "text"
      },
      "source": [
        "<a href=\"https://colab.research.google.com/github/nshea3/DS109_Python3_Solutions/blob/master/Libya_paleocene_clastics_thickness/Libya_paleocene_clastics_thickness.ipynb\" target=\"_parent\"><img src=\"https://colab.research.google.com/assets/colab-badge.svg\" alt=\"Open In Colab\"/></a>"
      ]
    },
    {
      "cell_type": "markdown",
      "metadata": {
        "id": "XFD9wpgroZlZ",
        "colab_type": "text"
      },
      "source": [
        "# Geostatistical Analysis of Libyan Clastic Thickness\n",
        "\n",
        "After [*Geostatistical Analysis of Libyan Clastic Thickness*](http://www.wvgs.wvnet.edu/www/geostat/Libya3.PDF) by Hohn (1999).\n",
        "\n"
      ]
    },
    {
      "cell_type": "code",
      "metadata": {
        "id": "CWBVKGUwnypg",
        "colab_type": "code",
        "colab": {}
      },
      "source": [
        "import pandas as pd"
      ],
      "execution_count": 0,
      "outputs": []
    },
    {
      "cell_type": "code",
      "metadata": {
        "id": "j2xzPt4mqXyF",
        "colab_type": "code",
        "colab": {
          "base_uri": "https://localhost:8080/",
          "height": 200
        },
        "outputId": "86c0e0e7-f1ca-4956-869c-655999b5f1de"
      },
      "source": [
        "thickness_df = pd.read_csv('https://raw.githubusercontent.com/nshea3/geostats/master/Libya_paleocene_clastics_thickness/data/appb.txt', delim_whitespace=True, skiprows = 6, names=['Index', 'Easting', 'Northing', 'Thickness'])\n",
        "thickness_df.head()"
      ],
      "execution_count": 2,
      "outputs": [
        {
          "output_type": "execute_result",
          "data": {
            "text/html": [
              "<div>\n",
              "<style scoped>\n",
              "    .dataframe tbody tr th:only-of-type {\n",
              "        vertical-align: middle;\n",
              "    }\n",
              "\n",
              "    .dataframe tbody tr th {\n",
              "        vertical-align: top;\n",
              "    }\n",
              "\n",
              "    .dataframe thead th {\n",
              "        text-align: right;\n",
              "    }\n",
              "</style>\n",
              "<table border=\"1\" class=\"dataframe\">\n",
              "  <thead>\n",
              "    <tr style=\"text-align: right;\">\n",
              "      <th></th>\n",
              "      <th>Index</th>\n",
              "      <th>Easting</th>\n",
              "      <th>Northing</th>\n",
              "      <th>Thickness</th>\n",
              "    </tr>\n",
              "  </thead>\n",
              "  <tbody>\n",
              "    <tr>\n",
              "      <th>0</th>\n",
              "      <td>1</td>\n",
              "      <td>0.0</td>\n",
              "      <td>24.0</td>\n",
              "      <td>1848</td>\n",
              "    </tr>\n",
              "    <tr>\n",
              "      <th>1</th>\n",
              "      <td>2</td>\n",
              "      <td>2.5</td>\n",
              "      <td>20.0</td>\n",
              "      <td>1806</td>\n",
              "    </tr>\n",
              "    <tr>\n",
              "      <th>2</th>\n",
              "      <td>3</td>\n",
              "      <td>4.0</td>\n",
              "      <td>25.0</td>\n",
              "      <td>2220</td>\n",
              "    </tr>\n",
              "    <tr>\n",
              "      <th>3</th>\n",
              "      <td>4</td>\n",
              "      <td>1.0</td>\n",
              "      <td>11.0</td>\n",
              "      <td>2513</td>\n",
              "    </tr>\n",
              "    <tr>\n",
              "      <th>4</th>\n",
              "      <td>5</td>\n",
              "      <td>6.0</td>\n",
              "      <td>0.0</td>\n",
              "      <td>3209</td>\n",
              "    </tr>\n",
              "  </tbody>\n",
              "</table>\n",
              "</div>"
            ],
            "text/plain": [
              "   Index  Easting  Northing  Thickness\n",
              "0      1      0.0      24.0       1848\n",
              "1      2      2.5      20.0       1806\n",
              "2      3      4.0      25.0       2220\n",
              "3      4      1.0      11.0       2513\n",
              "4      5      6.0       0.0       3209"
            ]
          },
          "metadata": {
            "tags": []
          },
          "execution_count": 2
        }
      ]
    },
    {
      "cell_type": "code",
      "metadata": {
        "id": "cgthucOfsQXE",
        "colab_type": "code",
        "colab": {
          "base_uri": "https://localhost:8080/",
          "height": 255
        },
        "outputId": "c1f7e076-31a7-4204-d7cd-b1887148e0ab"
      },
      "source": [
        "import matplotlib.pyplot as plt\n",
        "\n",
        "%matplotlib inline\n",
        "\n",
        "ax = thickness_df.plot.scatter('Easting', 'Northing', c='Thickness')\n",
        "x0,x1 = ax.get_xlim()\n",
        "y0,y1 = ax.get_ylim()\n",
        "ax.set_aspect(abs(x1-x0)/abs(y1-y0))"
      ],
      "execution_count": 3,
      "outputs": [
        {
          "output_type": "display_data",
          "data": {
            "image/png": "[encoded data removed]",
            "text/plain": [
              "<Figure size 432x288 with 2 Axes>"
            ]
          },
          "metadata": {
            "tags": []
          }
        }
      ]
    },
    {
      "cell_type": "code",
      "metadata": {
        "id": "Sz-LJDbtwWmn",
        "colab_type": "code",
        "colab": {
          "base_uri": "https://localhost:8080/",
          "height": 106
        },
        "outputId": "bcc1f1ea-8235-49d0-cae5-f959ed757af0"
      },
      "source": [
        "!pip install geostatspy"
      ],
      "execution_count": 4,
      "outputs": [
        {
          "output_type": "stream",
          "text": [
            "Collecting geostatspy\n",
            "\u001b[?25l  Downloading https://files.pythonhosted.org/packages/63/59/d82eab4fe30ac18de82a3eea1e0bf063b2493295ba5f1b9a8e39b8bc9d0b/geostatspy-0.0.18-py3-none-any.whl (49kB)\n",
            "\u001b[K     |████████████████████████████████| 51kB 3.3MB/s \n",
            "\u001b[?25hInstalling collected packages: geostatspy\n",
            "Successfully installed geostatspy-0.0.18\n"
          ],
          "name": "stdout"
        }
      ]
    },
    {
      "cell_type": "code",
      "metadata": {
        "id": "WZOAaw1IxxTd",
        "colab_type": "code",
        "colab": {}
      },
      "source": [
        "from geostatspy.geostats import declus"
      ],
      "execution_count": 0,
      "outputs": []
    },
    {
      "cell_type": "markdown",
      "metadata": {
        "id": "COTp0dSY3beu",
        "colab_type": "text"
      },
      "source": [
        "Cell declustering explained via [Clayton Deutsch's Geostatistics Lessons](http://www.geostatisticslessons.com/lessons/celldeclustering.html)."
      ]
    },
    {
      "cell_type": "code",
      "metadata": {
        "id": "R0qB_75wyF8R",
        "colab_type": "code",
        "colab": {
          "base_uri": "https://localhost:8080/",
          "height": 356
        },
        "outputId": "50c9439f-22af-48d4-ba48-06bba4a339b7"
      },
      "source": [
        "wtopt, xcs_mat, vrcr_mat = declus(thickness_df, 'Easting', 'Northing', 'Thickness', 0, 5, 20, 1, 20)\n",
        "\n",
        "\n",
        "ax = plt.subplot()\n",
        "ax.plot(xcs_mat, vrcr_mat, 'o')\n",
        "ax.set_ylim([2450,2750])\n",
        "\n",
        "wtopt.shape"
      ],
      "execution_count": 6,
      "outputs": [
        {
          "output_type": "stream",
          "text": [
            "There are 39 data with:\n",
            "   mean of      2489.897435897436 \n",
            "   min and max  1439 and 3941\n",
            "   standard dev 586.624931275023 \n"
          ],
          "name": "stdout"
        },
        {
          "output_type": "execute_result",
          "data": {
            "text/plain": [
              "(39,)"
            ]
          },
          "metadata": {
            "tags": []
          },
          "execution_count": 6
        },
        {
          "output_type": "display_data",
          "data": {
            "image/png": "[encoded data removed]",
            "text/plain": [
              "<Figure size 432x288 with 1 Axes>"
            ]
          },
          "metadata": {
            "tags": []
          }
        }
      ]
    },
    {
      "cell_type": "code",
      "metadata": {
        "id": "zYoQ-HkMIBMq",
        "colab_type": "code",
        "colab": {
          "base_uri": "https://localhost:8080/",
          "height": 287
        },
        "outputId": "7c47f297-69c3-4518-c9c8-bd9e9ec82d0c"
      },
      "source": [
        "thickness_df['Thickness'].hist(bins=range(1200,4200,100), density=True)"
      ],
      "execution_count": 17,
      "outputs": [
        {
          "output_type": "execute_result",
          "data": {
            "text/plain": [
              "<matplotlib.axes._subplots.AxesSubplot at 0x7ff7728274a8>"
            ]
          },
          "metadata": {
            "tags": []
          },
          "execution_count": 17
        },
        {
          "output_type": "display_data",
          "data": {
            "image/png": "[encoded data removed]",
            "text/plain": [
              "<Figure size 432x288 with 1 Axes>"
            ]
          },
          "metadata": {
            "tags": []
          }
        }
      ]
    },
    {
      "cell_type": "code",
      "metadata": {
        "id": "bIyDgLCaIZLR",
        "colab_type": "code",
        "colab": {
          "base_uri": "https://localhost:8080/",
          "height": 287
        },
        "outputId": "53c4ca0c-95f0-4e2a-c5a5-ae1a520f9dc2"
      },
      "source": [
        "import numpy as np\n",
        "\n",
        "sum_weights = sum(wtopt)\n",
        "thickness_df['Thickness'].hist(bins=range(1200,4200,100), density=True, weights=wtopt)"
      ],
      "execution_count": 19,
      "outputs": [
        {
          "output_type": "execute_result",
          "data": {
            "text/plain": [
              "<matplotlib.axes._subplots.AxesSubplot at 0x7ff78086f630>"
            ]
          },
          "metadata": {
            "tags": []
          },
          "execution_count": 19
        },
        {
          "output_type": "display_data",
          "data": {
            "image/png": "[encoded data removed]",
            "text/plain": [
              "<Figure size 432x288 with 1 Axes>"
            ]
          },
          "metadata": {
            "tags": []
          }
        }
      ]
    },
    {
      "cell_type": "code",
      "metadata": {
        "id": "s2fw1Ht9bO0X",
        "colab_type": "code",
        "colab": {
          "base_uri": "https://localhost:8080/",
          "height": 255
        },
        "outputId": "a3ea0e2e-67ff-4f87-f335-62e4146ddd78"
      },
      "source": [
        "thickness_df['Weights'] = wtopt\n",
        "\n",
        "ax = thickness_df.plot.scatter('Easting', 'Northing', c='Weights')\n",
        "x0,x1 = ax.get_xlim()\n",
        "y0,y1 = ax.get_ylim()\n",
        "ax.set_aspect(abs(x1-x0)/abs(y1-y0))"
      ],
      "execution_count": 16,
      "outputs": [
        {
          "output_type": "display_data",
          "data": {
            "image/png": "[encoded data removed]",
            "text/plain": [
              "<Figure size 432x288 with 2 Axes>"
            ]
          },
          "metadata": {
            "tags": []
          }
        }
      ]
    },
    {
      "cell_type": "code",
      "metadata": {
        "id": "LXlpA7VmLfsb",
        "colab_type": "code",
        "colab": {
          "base_uri": "https://localhost:8080/",
          "height": 356
        },
        "outputId": "b5cbcc4b-5e8d-45f8-8122-ba57e6402e9f"
      },
      "source": [
        "plt.hist(wtopt)"
      ],
      "execution_count": 9,
      "outputs": [
        {
          "output_type": "execute_result",
          "data": {
            "text/plain": [
              "(array([17., 11.,  5.,  1.,  2.,  1.,  0.,  0.,  0.,  2.]),\n",
              " array([0.44705387, 0.74179293, 1.03653199, 1.33127104, 1.6260101 ,\n",
              "        1.92074916, 2.21548822, 2.51022727, 2.80496633, 3.09970539,\n",
              "        3.39444444]),\n",
              " <a list of 10 Patch objects>)"
            ]
          },
          "metadata": {
            "tags": []
          },
          "execution_count": 9
        },
        {
          "output_type": "display_data",
          "data": {
            "image/png": "[encoded data removed]",
            "text/plain": [
              "<Figure size 432x288 with 1 Axes>"
            ]
          },
          "metadata": {
            "tags": []
          }
        }
      ]
    },
    {
      "cell_type": "code",
      "metadata": {
        "id": "g9RpOh9Pl_Eo",
        "colab_type": "code",
        "colab": {
          "base_uri": "https://localhost:8080/",
          "height": 471
        },
        "outputId": "125cb1a3-3531-4cbe-920e-27e70cacdc40"
      },
      "source": [
        "!pip install scikit-gstat"
      ],
      "execution_count": 20,
      "outputs": [
        {
          "output_type": "stream",
          "text": [
            "Collecting scikit-gstat\n",
            "\u001b[?25l  Downloading https://files.pythonhosted.org/packages/22/e3/8d86c7edada1cce664a9fdd03b7d485094e5469b74683bfcff23fd817aa8/scikit-gstat-0.2.5.tar.gz (50kB)\n",
            "\u001b[K     |████████████████████████████████| 51kB 3.1MB/s \n",
            "\u001b[?25hRequirement already satisfied: scipy in /usr/local/lib/python3.6/dist-packages (from scikit-gstat) (1.3.1)\n",
            "Requirement already satisfied: numpy in /usr/local/lib/python3.6/dist-packages (from scikit-gstat) (1.16.4)\n",
            "Requirement already satisfied: pandas in /usr/local/lib/python3.6/dist-packages (from scikit-gstat) (0.24.2)\n",
            "Requirement already satisfied: nose in /usr/local/lib/python3.6/dist-packages (from scikit-gstat) (1.3.7)\n",
            "Requirement already satisfied: matplotlib in /usr/local/lib/python3.6/dist-packages (from scikit-gstat) (3.0.3)\n",
            "Requirement already satisfied: numba in /usr/local/lib/python3.6/dist-packages (from scikit-gstat) (0.40.1)\n",
            "Requirement already satisfied: shapely in /usr/local/lib/python3.6/dist-packages (from scikit-gstat) (1.6.4.post2)\n",
            "Requirement already satisfied: pytz>=2011k in /usr/local/lib/python3.6/dist-packages (from pandas->scikit-gstat) (2018.9)\n",
            "Requirement already satisfied: python-dateutil>=2.5.0 in /usr/local/lib/python3.6/dist-packages (from pandas->scikit-gstat) (2.5.3)\n",
            "Requirement already satisfied: cycler>=0.10 in /usr/local/lib/python3.6/dist-packages (from matplotlib->scikit-gstat) (0.10.0)\n",
            "Requirement already satisfied: kiwisolver>=1.0.1 in /usr/local/lib/python3.6/dist-packages (from matplotlib->scikit-gstat) (1.1.0)\n",
            "Requirement already satisfied: pyparsing!=2.0.4,!=2.1.2,!=2.1.6,>=2.0.1 in /usr/local/lib/python3.6/dist-packages (from matplotlib->scikit-gstat) (2.4.2)\n",
            "Requirement already satisfied: llvmlite>=0.25.0dev0 in /usr/local/lib/python3.6/dist-packages (from numba->scikit-gstat) (0.29.0)\n",
            "Requirement already satisfied: six>=1.5 in /usr/local/lib/python3.6/dist-packages (from python-dateutil>=2.5.0->pandas->scikit-gstat) (1.12.0)\n",
            "Requirement already satisfied: setuptools in /usr/local/lib/python3.6/dist-packages (from kiwisolver>=1.0.1->matplotlib->scikit-gstat) (41.0.1)\n",
            "Building wheels for collected packages: scikit-gstat\n",
            "  Building wheel for scikit-gstat (setup.py) ... \u001b[?25l\u001b[?25hdone\n",
            "  Created wheel for scikit-gstat: filename=scikit_gstat-0.2.5-cp36-none-any.whl size=55990 sha256=34f418c5e09eaa21d6b7674888e10f7b3e965e1b5a10968bda1f5d612d29e913\n",
            "  Stored in directory: /root/.cache/pip/wheels/c7/3b/b6/e9cb77c076c95123211d9961902894d9152055a0422ee9348d\n",
            "Successfully built scikit-gstat\n",
            "Installing collected packages: scikit-gstat\n",
            "Successfully installed scikit-gstat-0.2.5\n"
          ],
          "name": "stdout"
        }
      ]
    },
    {
      "cell_type": "code",
      "metadata": {
        "id": "EcZdY1iZfzx-",
        "colab_type": "code",
        "colab": {}
      },
      "source": [
        "import skgstat as skg\n",
        "\n",
        "V = skg.Variogram(coordinates=np.array(thickness_df[['Easting','Northing']]), values=thickness_df['Thickness'], maxlag=20)\n"
      ],
      "execution_count": 0,
      "outputs": []
    },
    {
      "cell_type": "code",
      "metadata": {
        "id": "X7HziZJpiY7d",
        "colab_type": "code",
        "colab": {
          "base_uri": "https://localhost:8080/",
          "height": 389
        },
        "outputId": "87ad1906-fc64-4042-8d99-fc3a75cbbbb9"
      },
      "source": [
        "plt = V.plot()"
      ],
      "execution_count": 32,
      "outputs": [
        {
          "output_type": "stream",
          "text": [
            "/usr/local/lib/python3.6/dist-packages/matplotlib/cbook/__init__.py:424: MatplotlibDeprecationWarning: \n",
            "Passing one of 'on', 'true', 'off', 'false' as a boolean is deprecated; use an actual boolean (True/False) instead.\n",
            "  warn_deprecated(\"2.2\", \"Passing one of 'on', 'true', 'off', 'false' as a \"\n"
          ],
          "name": "stderr"
        },
        {
          "output_type": "display_data",
          "data": {
            "image/png": "[encoded data removed]",
            "text/plain": [
              "<Figure size 576x360 with 2 Axes>"
            ]
          },
          "metadata": {
            "tags": []
          }
        }
      ]
    }
  ]
}